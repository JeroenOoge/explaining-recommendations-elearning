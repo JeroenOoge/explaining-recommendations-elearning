{
 "cells": [
  {
   "cell_type": "code",
   "execution_count": 52,
   "metadata": {},
   "outputs": [],
   "source": [
    "import pandas as pd\n",
    "import uuid"
   ]
  },
  {
   "cell_type": "code",
   "execution_count": 53,
   "metadata": {},
   "outputs": [],
   "source": [
    "df_pre = pd.read_csv('./data/pre_study_questionnaire_updated_non_pseudo.csv', sep=\";\")\n",
    "df_post = pd.read_csv('./data/post_study_questionnaire_updated_non_pseudo.csv', sep=\";\")"
   ]
  },
  {
   "cell_type": "code",
   "execution_count": 54,
   "metadata": {},
   "outputs": [],
   "source": [
    "def build_uuid_map(usernames):\n",
    "    dic = dict()\n",
    "    for i in range(len(usernames)):\n",
    "        if (usernames[i] not in dic):\n",
    "            dic[usernames[i]] = uuid.uuid4()\n",
    "    return dic\n",
    "\n",
    "def build_replacement_column(usernames, dic):\n",
    "    rv = []\n",
    "    for i in range(len(usernames)):\n",
    "        if (usernames[i] not in dic):\n",
    "            rv.append(uuid.uuid4())\n",
    "            continue\n",
    "        rv.append(dic[usernames[i]])\n",
    "        \n",
    "    return rv"
   ]
  },
  {
   "cell_type": "code",
   "execution_count": 55,
   "metadata": {},
   "outputs": [],
   "source": [
    "pre_map = build_uuid_map(df_pre[\"Gebruikersnaam\"].values)\n",
    "\n",
    "guids_pre = build_replacement_column(df_pre[\"Gebruikersnaam\"].values, pre_map)\n",
    "guids_post = build_replacement_column(df_post[\"Gebruikersnaam\"].values, pre_map)"
   ]
  },
  {
   "cell_type": "code",
   "execution_count": 56,
   "metadata": {},
   "outputs": [
    {
     "data": {
      "text/plain": [
       "Index(['Serienummer', 'SID', 'Tijdstip van indienen', 'Verwerkingstijd',\n",
       "       'Tijdstip van wijziging', 'Concept', 'IP-adres', 'UID',\n",
       "       'Gebruikersnaam', 'Wat is je leeftijd?', 'Wat is je geslacht?',\n",
       "       'In welk leerjaar zit je?', 'Hoeveel uur wiskunde krijg je per week?',\n",
       "       'Hoe goed ben je, volgens jezelf, in wiskunde?',\n",
       "       'Hoe goed ben je, volgens jezelf, met het gebruik van computers?',\n",
       "       'Gebruikte je al eens een andere website om online oefeningen te maken? (bijvoorbeeld voor wiskunde, Nederlands ...)',\n",
       "       'Gebruik je websites waar producten/films/... worden aangeraden? (zoals Netflix, Amazon, Bol, ...)',\n",
       "       'Ik bezoek Wiski niet met Safari of Firefox.'],\n",
       "      dtype='object')"
      ]
     },
     "execution_count": 56,
     "metadata": {},
     "output_type": "execute_result"
    }
   ],
   "source": [
    "df_pre.columns"
   ]
  },
  {
   "cell_type": "code",
   "execution_count": 57,
   "metadata": {},
   "outputs": [],
   "source": [
    "df_pre.drop('IP-adres',1,inplace=True)\n",
    "df_pre[\"Gebruikersnaam\"] = guids_pre\n",
    "df_post.drop('IP-adres',1,inplace=True)\n",
    "df_post[\"Gebruikersnaam\"] = guids_post"
   ]
  },
  {
   "cell_type": "code",
   "execution_count": 58,
   "metadata": {},
   "outputs": [],
   "source": [
    "df_pre.to_csv(\"./data/pre_study_questionnaire_updated.csv\")"
   ]
  },
  {
   "cell_type": "code",
   "execution_count": 59,
   "metadata": {},
   "outputs": [],
   "source": [
    "df_post.to_csv('./data/post_study_questionnaire_updated.csv')"
   ]
  },
  {
   "cell_type": "code",
   "execution_count": null,
   "metadata": {},
   "outputs": [],
   "source": []
  }
 ],
 "metadata": {
  "kernelspec": {
   "display_name": "Python 3",
   "language": "python",
   "name": "python3"
  },
  "language_info": {
   "codemirror_mode": {
    "name": "ipython",
    "version": 3
   },
   "file_extension": ".py",
   "mimetype": "text/x-python",
   "name": "python",
   "nbconvert_exporter": "python",
   "pygments_lexer": "ipython3",
   "version": "3.8.5"
  }
 },
 "nbformat": 4,
 "nbformat_minor": 4
}
