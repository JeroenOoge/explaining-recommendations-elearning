{
 "cells": [
  {
   "cell_type": "code",
   "execution_count": 1,
   "metadata": {},
   "outputs": [],
   "source": [
    "import numpy as np\n",
    "import pandas as pd\n",
    "import scipy\n",
    "from matplotlib import pyplot as plt\n",
    "import seaborn as sns\n",
    "from matplotlib.ticker import MaxNLocator\n",
    "\n"
   ]
  },
  {
   "cell_type": "code",
   "execution_count": 2,
   "metadata": {},
   "outputs": [],
   "source": [
    "correct_grade_df = pd.read_csv('../Datasets/correct_grade_unparsed.csv', sep=\",\")"
   ]
  },
  {
   "cell_type": "code",
   "execution_count": 3,
   "metadata": {},
   "outputs": [
    {
     "data": {
      "text/html": [
       "<div>\n",
       "<style scoped>\n",
       "    .dataframe tbody tr th:only-of-type {\n",
       "        vertical-align: middle;\n",
       "    }\n",
       "\n",
       "    .dataframe tbody tr th {\n",
       "        vertical-align: top;\n",
       "    }\n",
       "\n",
       "    .dataframe thead th {\n",
       "        text-align: right;\n",
       "    }\n",
       "</style>\n",
       "<table border=\"1\" class=\"dataframe\">\n",
       "  <thead>\n",
       "    <tr style=\"text-align: right;\">\n",
       "      <th></th>\n",
       "      <th>Unnamed: 0</th>\n",
       "      <th>UID</th>\n",
       "      <th>Wat is je leeftijd?</th>\n",
       "      <th>Wat is je geslacht?</th>\n",
       "      <th>In welk leerjaar zit je?</th>\n",
       "      <th>Hoeveel uur wiskunde krijg je per week?</th>\n",
       "      <th>Hoe goed ben je, volgens jezelf, in wiskunde?</th>\n",
       "      <th>Hoe goed ben je, volgens jezelf, met het gebruik van computers?</th>\n",
       "      <th>Gebruikte je al eens een andere website om online oefeningen te maken? (bijvoorbeeld voor wiskunde, Nederlands ...)</th>\n",
       "      <th>Gebruik je websites waar producten/films/... worden aangeraden? (zoals Netflix, Amazon, Bol, ...)</th>\n",
       "      <th>Ik bezoek Wiski niet met Safari of Firefox.</th>\n",
       "    </tr>\n",
       "  </thead>\n",
       "  <tbody>\n",
       "    <tr>\n",
       "      <th>0</th>\n",
       "      <td>13</td>\n",
       "      <td>1886</td>\n",
       "      <td>16</td>\n",
       "      <td>Meisje</td>\n",
       "      <td>4e middelbaar</td>\n",
       "      <td>5</td>\n",
       "      <td>Goed</td>\n",
       "      <td>Goed</td>\n",
       "      <td>Ja</td>\n",
       "      <td>Ja</td>\n",
       "      <td>Ja</td>\n",
       "    </tr>\n",
       "    <tr>\n",
       "      <th>1</th>\n",
       "      <td>14</td>\n",
       "      <td>1887</td>\n",
       "      <td>16</td>\n",
       "      <td>Meisje</td>\n",
       "      <td>4e middelbaar</td>\n",
       "      <td>5</td>\n",
       "      <td>Zwak</td>\n",
       "      <td>Gemiddeld</td>\n",
       "      <td>Nee</td>\n",
       "      <td>Ja</td>\n",
       "      <td>Ja</td>\n",
       "    </tr>\n",
       "    <tr>\n",
       "      <th>2</th>\n",
       "      <td>15</td>\n",
       "      <td>1888</td>\n",
       "      <td>15</td>\n",
       "      <td>Meisje</td>\n",
       "      <td>4e middelbaar</td>\n",
       "      <td>5</td>\n",
       "      <td>Goed</td>\n",
       "      <td>Goed</td>\n",
       "      <td>Nee</td>\n",
       "      <td>Nee</td>\n",
       "      <td>Ja</td>\n",
       "    </tr>\n",
       "    <tr>\n",
       "      <th>3</th>\n",
       "      <td>16</td>\n",
       "      <td>1889</td>\n",
       "      <td>16</td>\n",
       "      <td>Meisje</td>\n",
       "      <td>4e middelbaar</td>\n",
       "      <td>5</td>\n",
       "      <td>Goed</td>\n",
       "      <td>Goed</td>\n",
       "      <td>Ja</td>\n",
       "      <td>Ja</td>\n",
       "      <td>Ja</td>\n",
       "    </tr>\n",
       "    <tr>\n",
       "      <th>4</th>\n",
       "      <td>18</td>\n",
       "      <td>1891</td>\n",
       "      <td>15</td>\n",
       "      <td>Meisje</td>\n",
       "      <td>6e middelbaar</td>\n",
       "      <td>5</td>\n",
       "      <td>Goed</td>\n",
       "      <td>Gemiddeld</td>\n",
       "      <td>Ja</td>\n",
       "      <td>Nee</td>\n",
       "      <td>Ja</td>\n",
       "    </tr>\n",
       "  </tbody>\n",
       "</table>\n",
       "</div>"
      ],
      "text/plain": [
       "   Unnamed: 0   UID  Wat is je leeftijd? Wat is je geslacht?  \\\n",
       "0          13  1886                   16              Meisje   \n",
       "1          14  1887                   16              Meisje   \n",
       "2          15  1888                   15              Meisje   \n",
       "3          16  1889                   16              Meisje   \n",
       "4          18  1891                   15              Meisje   \n",
       "\n",
       "  In welk leerjaar zit je?  Hoeveel uur wiskunde krijg je per week?  \\\n",
       "0            4e middelbaar                                        5   \n",
       "1            4e middelbaar                                        5   \n",
       "2            4e middelbaar                                        5   \n",
       "3            4e middelbaar                                        5   \n",
       "4            6e middelbaar                                        5   \n",
       "\n",
       "  Hoe goed ben je, volgens jezelf, in wiskunde?  \\\n",
       "0                                          Goed   \n",
       "1                                          Zwak   \n",
       "2                                          Goed   \n",
       "3                                          Goed   \n",
       "4                                          Goed   \n",
       "\n",
       "  Hoe goed ben je, volgens jezelf, met het gebruik van computers?  \\\n",
       "0                                               Goed                \n",
       "1                                          Gemiddeld                \n",
       "2                                               Goed                \n",
       "3                                               Goed                \n",
       "4                                          Gemiddeld                \n",
       "\n",
       "  Gebruikte je al eens een andere website om online oefeningen te maken? (bijvoorbeeld voor wiskunde, Nederlands ...)  \\\n",
       "0                                                 Ja                                                                    \n",
       "1                                                Nee                                                                    \n",
       "2                                                Nee                                                                    \n",
       "3                                                 Ja                                                                    \n",
       "4                                                 Ja                                                                    \n",
       "\n",
       "  Gebruik je websites waar producten/films/... worden aangeraden? (zoals Netflix, Amazon, Bol, ...)  \\\n",
       "0                                                 Ja                                                  \n",
       "1                                                 Ja                                                  \n",
       "2                                                Nee                                                  \n",
       "3                                                 Ja                                                  \n",
       "4                                                Nee                                                  \n",
       "\n",
       "  Ik bezoek Wiski niet met Safari of Firefox.  \n",
       "0                                          Ja  \n",
       "1                                          Ja  \n",
       "2                                          Ja  \n",
       "3                                          Ja  \n",
       "4                                          Ja  "
      ]
     },
     "execution_count": 3,
     "metadata": {},
     "output_type": "execute_result"
    }
   ],
   "source": [
    "correct_grade_df.head()"
   ]
  },
  {
   "cell_type": "code",
   "execution_count": 4,
   "metadata": {},
   "outputs": [
    {
     "data": {
      "text/plain": [
       "array([' 4e middelbaar', ' 6e middelbaar', ' 5e middelbaar',\n",
       "       ' 3e middelbaar'], dtype=object)"
      ]
     },
     "execution_count": 4,
     "metadata": {},
     "output_type": "execute_result"
    }
   ],
   "source": [
    "correct_grade_df[\"In welk leerjaar zit je?\"].unique()"
   ]
  },
  {
   "cell_type": "code",
   "execution_count": 5,
   "metadata": {},
   "outputs": [],
   "source": [
    "sns.set_style(\"whitegrid\")"
   ]
  },
  {
   "cell_type": "code",
   "execution_count": 6,
   "metadata": {},
   "outputs": [
    {
     "data": {
      "text/plain": [
       "<Figure size 432x288 with 0 Axes>"
      ]
     },
     "execution_count": 6,
     "metadata": {},
     "output_type": "execute_result"
    },
    {
     "data": {
      "image/png": "[encoded data removed]",
      "text/plain": [
       "<Figure size 432x288 with 1 Axes>"
      ]
     },
     "metadata": {},
     "output_type": "display_data"
    },
    {
     "data": {
      "text/plain": [
       "<Figure size 432x288 with 0 Axes>"
      ]
     },
     "metadata": {},
     "output_type": "display_data"
    }
   ],
   "source": [
    "# age distribution\n",
    "age_data_unparsed = correct_grade_df['Wat is je leeftijd?'].to_list()\n",
    "age_data_parsed = [int(age_data_unparsed[i]) for i in range(len(age_data_unparsed))]\n",
    "plt.figure()\n",
    "plt.title('Age Distribution')\n",
    "arr = plt.hist(age_data_parsed, 6)\n",
    "plt.xlabel('Age')\n",
    "for i in range(6):\n",
    "    plt.text(arr[1][i],arr[0][i],str(arr[0][i]))\n",
    "plt.figure()"
   ]
  },
  {
   "cell_type": "code",
   "execution_count": 7,
   "metadata": {},
   "outputs": [
    {
     "data": {
      "text/plain": [
       "<Figure size 432x288 with 0 Axes>"
      ]
     },
     "execution_count": 7,
     "metadata": {},
     "output_type": "execute_result"
    },
    {
     "data": {
      "image/png": "[encoded data removed]",
      "text/plain": [
       "<Figure size 432x288 with 1 Axes>"
      ]
     },
     "metadata": {},
     "output_type": "display_data"
    },
    {
     "data": {
      "text/plain": [
       "<Figure size 432x288 with 0 Axes>"
      ]
     },
     "metadata": {},
     "output_type": "display_data"
    }
   ],
   "source": [
    "# gender distribution\n",
    "gender_data_unparsed = correct_grade_df[\"Wat is je geslacht?\"].to_list()\n",
    "gender_data_parsed = [gender_data_unparsed[i].strip() for i in range(len(gender_data_unparsed))]\n",
    "plt.figure()\n",
    "plt.title('Gender Distribution')\n",
    "arr = plt.hist(gender_data_parsed, 3)\n",
    "plt.xlabel('Gender')\n",
    "for i in range(3):\n",
    "    plt.text(arr[1][i],arr[0][i],str(arr[0][i]))\n",
    "plt.figure()"
   ]
  },
  {
   "cell_type": "code",
   "execution_count": 8,
   "metadata": {},
   "outputs": [
    {
     "data": {
      "text/plain": [
       "<Figure size 432x288 with 0 Axes>"
      ]
     },
     "execution_count": 8,
     "metadata": {},
     "output_type": "execute_result"
    },
    {
     "data": {
      "image/png": "[encoded data removed]",
      "text/plain": [
       "<Figure size 432x288 with 1 Axes>"
      ]
     },
     "metadata": {},
     "output_type": "display_data"
    },
    {
     "data": {
      "text/plain": [
       "<Figure size 432x288 with 0 Axes>"
      ]
     },
     "metadata": {},
     "output_type": "display_data"
    }
   ],
   "source": [
    "# grade distribution\n",
    "grade_data_unparsed = correct_grade_df[\"In welk leerjaar zit je?\"].to_list()\n",
    "grade_data_parsed = [grade_data_unparsed[i].strip() for i in range(len(grade_data_unparsed))]\n",
    "plt.figure()\n",
    "plt.title('Grade Distribution')\n",
    "arr = plt.hist(grade_data_parsed, 4)\n",
    "plt.xlabel('Grade')\n",
    "for i in range(4):\n",
    "    plt.text(arr[1][i],arr[0][i],str(arr[0][i]))\n",
    "plt.figure()"
   ]
  },
  {
   "cell_type": "code",
   "execution_count": 9,
   "metadata": {},
   "outputs": [
    {
     "data": {
      "text/plain": [
       "<Figure size 432x288 with 0 Axes>"
      ]
     },
     "execution_count": 9,
     "metadata": {},
     "output_type": "execute_result"
    },
    {
     "data": {
      "image/png": "[encoded data removed]",
      "text/plain": [
       "<Figure size 432x288 with 1 Axes>"
      ]
     },
     "metadata": {},
     "output_type": "display_data"
    },
    {
     "data": {
      "text/plain": [
       "<Figure size 432x288 with 0 Axes>"
      ]
     },
     "metadata": {},
     "output_type": "display_data"
    }
   ],
   "source": [
    "# uren_wiskunde distribution\n",
    "uren_data_unparsed = correct_grade_df[\"Hoeveel uur wiskunde krijg je per week?\"].to_list()\n",
    "uren_data_parsed = [uren_data_unparsed[i] for i in range(len(uren_data_unparsed))]\n",
    "plt.figure()\n",
    "plt.title('Hours of Math / Week Distribution')\n",
    "arr = plt.hist(uren_data_parsed, 6)\n",
    "plt.xlabel('Hours')\n",
    "for i in range(6):\n",
    "    plt.text(arr[1][i],arr[0][i],str(arr[0][i]))\n",
    "plt.figure()"
   ]
  },
  {
   "cell_type": "code",
   "execution_count": 10,
   "metadata": {},
   "outputs": [
    {
     "data": {
      "text/plain": [
       "<Figure size 432x288 with 0 Axes>"
      ]
     },
     "execution_count": 10,
     "metadata": {},
     "output_type": "execute_result"
    },
    {
     "data": {
      "image/png": "[encoded data removed]",
      "text/plain": [
       "<Figure size 432x288 with 1 Axes>"
      ]
     },
     "metadata": {},
     "output_type": "display_data"
    },
    {
     "data": {
      "text/plain": [
       "<Figure size 432x288 with 0 Axes>"
      ]
     },
     "metadata": {},
     "output_type": "display_data"
    }
   ],
   "source": [
    "# goed in wiskunde distribution\n",
    "wiskunde_niveau_data_unparsed = correct_grade_df[\"Hoe goed ben je, volgens jezelf, in wiskunde?\"].to_list()\n",
    "wiskunde_niveau_data_parsed = [wiskunde_niveau_data_unparsed[i] for i in range(len(wiskunde_niveau_data_unparsed))]\n",
    "plt.figure()\n",
    "plt.title('Math Level Distribution')\n",
    "arr = plt.hist(wiskunde_niveau_data_parsed, 5)\n",
    "for i in range(5):\n",
    "    plt.text(arr[1][i],arr[0][i],str(arr[0][i]))\n",
    "plt.figure()\n",
    "\n"
   ]
  },
  {
   "cell_type": "code",
   "execution_count": 11,
   "metadata": {},
   "outputs": [
    {
     "data": {
      "text/plain": [
       "<Figure size 432x288 with 0 Axes>"
      ]
     },
     "execution_count": 11,
     "metadata": {},
     "output_type": "execute_result"
    },
    {
     "data": {
      "image/png": "[encoded data removed]",
      "text/plain": [
       "<Figure size 432x288 with 1 Axes>"
      ]
     },
     "metadata": {},
     "output_type": "display_data"
    },
    {
     "data": {
      "text/plain": [
       "<Figure size 432x288 with 0 Axes>"
      ]
     },
     "metadata": {},
     "output_type": "display_data"
    }
   ],
   "source": [
    "# goed met computers distribution\n",
    "computer_niveau_data_unparsed = correct_grade_df[\"Hoe goed ben je, volgens jezelf, met het gebruik van computers?\"].to_list()\n",
    "computer_niveau_data_parsed = [computer_niveau_data_unparsed[i] for i in range(len(computer_niveau_data_unparsed))]\n",
    "plt.figure()\n",
    "plt.title('Computer Level Distribution')\n",
    "arr = plt.hist(computer_niveau_data_parsed, 5)\n",
    "for i in range(5):\n",
    "    plt.text(arr[1][i],arr[0][i],str(arr[0][i]))\n",
    "plt.figure()"
   ]
  },
  {
   "cell_type": "code",
   "execution_count": 12,
   "metadata": {},
   "outputs": [
    {
     "data": {
      "text/plain": [
       "<Figure size 432x288 with 0 Axes>"
      ]
     },
     "execution_count": 12,
     "metadata": {},
     "output_type": "execute_result"
    },
    {
     "data": {
      "image/png": "[encoded data removed]",
      "text/plain": [
       "<Figure size 432x288 with 1 Axes>"
      ]
     },
     "metadata": {},
     "output_type": "display_data"
    },
    {
     "data": {
      "text/plain": [
       "<Figure size 432x288 with 0 Axes>"
      ]
     },
     "metadata": {},
     "output_type": "display_data"
    }
   ],
   "source": [
    "# andere website distribution\n",
    "andere_website_data_unparsed = correct_grade_df[\"Gebruikte je al eens een andere website om online oefeningen te maken? (bijvoorbeeld voor wiskunde, Nederlands ...)\"].to_list()\n",
    "andere_website_data_parsed = [andere_website_data_unparsed[i] for i in range(len(andere_website_data_unparsed))]\n",
    "plt.figure()\n",
    "plt.title('Used Another Platform Distribution')\n",
    "arr = plt.hist(andere_website_data_parsed, 2)\n",
    "for i in range(2):\n",
    "    plt.text(arr[1][i],arr[0][i],str(arr[0][i]))\n",
    "plt.figure()\n",
    "\n"
   ]
  },
  {
   "cell_type": "code",
   "execution_count": 13,
   "metadata": {},
   "outputs": [
    {
     "data": {
      "text/plain": [
       "<Figure size 432x288 with 0 Axes>"
      ]
     },
     "execution_count": 13,
     "metadata": {},
     "output_type": "execute_result"
    },
    {
     "data": {
      "image/png": "[encoded data removed]",
      "text/plain": [
       "<Figure size 432x288 with 1 Axes>"
      ]
     },
     "metadata": {},
     "output_type": "display_data"
    },
    {
     "data": {
      "text/plain": [
       "<Figure size 432x288 with 0 Axes>"
      ]
     },
     "metadata": {},
     "output_type": "display_data"
    }
   ],
   "source": [
    "# andere recommender distribution\n",
    "recommender_data_unparsed = correct_grade_df[\"Gebruik je websites waar producten/films/... worden aangeraden? (zoals Netflix, Amazon, Bol, ...)\"].to_list()\n",
    "recommender_data_parsed = [recommender_data_unparsed[i] for i in range(len(recommender_data_unparsed))]\n",
    "plt.figure()\n",
    "plt.title('Other Recommender Platform Distribution')\n",
    "arr = plt.hist(recommender_data_parsed, 2)\n",
    "for i in range(2):\n",
    "    plt.text(arr[1][i],arr[0][i],str(arr[0][i]))\n",
    "plt.figure()\n"
   ]
  },
  {
   "cell_type": "code",
   "execution_count": 14,
   "metadata": {},
   "outputs": [],
   "source": [
    "def translate_grade(grade):\n",
    "    if grade==\"3e middelbaar\":\n",
    "        return (\"9th Grade\")\n",
    "    elif grade==\"4e middelbaar\":\n",
    "        return (\"10th Grade\")\n",
    "    elif grade==\"5e middelbaar\":\n",
    "        return (\"11th Grade\")\n",
    "    elif grade==\"6e middelbaar\":\n",
    "        return (\"12th Grade\")\n",
    "    elif grade==\"Andere\":\n",
    "        return (\"Other\")\n",
    "    else:\n",
    "        print(\"error\")\n",
    "\n",
    "def translate_gender(gender):\n",
    "    if gender==\"Meisje\":\n",
    "        return (\"F\")\n",
    "    elif gender==\"Jongen\":\n",
    "        return (\"M\")\n",
    "    else:\n",
    "        return (\"X\")\n",
    "    \n",
    "def translate_level(level):\n",
    "    level = level.strip()\n",
    "    if level==\"Heel zwak\":\n",
    "        return (\"Very weak\")\n",
    "    elif level==\"Zwak\":\n",
    "        return (\"Weak\")\n",
    "    elif level==\"Gemiddeld\":\n",
    "        return (\"Average\")\n",
    "    elif level==\"Goed\":\n",
    "        return (\"Good\")\n",
    "    elif level==\"Heel goed\":\n",
    "        return (\"Very good\")\n",
    "    \n",
    "def translate_yes_no(yn):\n",
    "    yn = yn.strip()\n",
    "    if yn==\"Ja\":\n",
    "        return \"Yes\"\n",
    "    else:\n",
    "        return \"No\""
   ]
  },
  {
   "cell_type": "code",
   "execution_count": 15,
   "metadata": {},
   "outputs": [
    {
     "name": "stdout",
     "output_type": "stream",
     "text": [
      "Rectangle(xy=(0, -0.4), width=1, height=0.8, angle=0)\n",
      "Rectangle(xy=(0, 1.6), width=14, height=0.8, angle=0)\n",
      "Rectangle(xy=(0, 2.6), width=12, height=0.8, angle=0)\n",
      "Rectangle(xy=(0, 3.6), width=7, height=0.8, angle=0)\n",
      "Rectangle(xy=(0, 4.6), width=3, height=0.8, angle=0)\n"
     ]
    },
    {
     "data": {
      "image/png": "[encoded data removed]",
      "text/plain": [
       "<Figure size 432x288 with 1 Axes>"
      ]
     },
     "metadata": {},
     "output_type": "display_data"
    }
   ],
   "source": [
    "# age distribution\n",
    "import math\n",
    "sns.set_style(\"white\")\n",
    "# ax = sns.histplot(data=age_data_parsed, y=age_data_parsed, discrete=True)\n",
    "# ax.set(xlabel=\"Age\", ylabel=\"Number of Students\")\n",
    "\n",
    "sns.set_style(\"white\")\n",
    "age_data = pd.DataFrame(age_data_parsed, columns=['Age'])\n",
    "ax = sns.countplot(data=age_data, y=\"Age\", order=[13,14,15,16,17,18], color=(110/255,138/255,200/255))\n",
    "ax.xaxis.set_major_locator(MaxNLocator(integer=True))\n",
    "ax.set_xticks([])\n",
    "ax.set(xlabel=\"Number of Students\", ylabel=\"Age\")\n",
    "for i, p in enumerate(ax.patches):\n",
    "    if not math.isnan(p.get_width()):\n",
    "        print(p)\n",
    "        width = p.get_width()\n",
    "        ax.text(width + 0.4, p.get_y()+p.get_height()/2+0.1, int(p.get_width()),ha=\"center\")\n",
    "sns.despine(bottom = True, left = True)\n",
    "\n"
   ]
  },
  {
   "cell_type": "code",
   "execution_count": 16,
   "metadata": {},
   "outputs": [
    {
     "name": "stdout",
     "output_type": "stream",
     "text": [
      "   Gender\n",
      "0       F\n",
      "1       F\n",
      "2       F\n",
      "3       F\n",
      "4       F\n",
      "5       F\n",
      "6       M\n",
      "7       F\n",
      "8       F\n",
      "9       F\n",
      "10      M\n",
      "11      F\n",
      "12      M\n",
      "13      F\n",
      "14      F\n",
      "15      M\n",
      "16      F\n",
      "17      F\n",
      "18      M\n",
      "19      M\n",
      "20      M\n",
      "21      M\n",
      "22      F\n",
      "23      M\n",
      "24      M\n",
      "25      F\n",
      "26      F\n",
      "27      F\n",
      "28      F\n",
      "29      F\n",
      "30      F\n",
      "31      F\n",
      "32      F\n",
      "33      M\n",
      "34      M\n",
      "35      M\n",
      "36      F\n",
      "Rectangle(xy=(0, -0.4), width=13, height=0.8, angle=0)\n",
      "Rectangle(xy=(0, 0.6), width=24, height=0.8, angle=0)\n"
     ]
    },
    {
     "data": {
      "image/png": "[encoded data removed]",
      "text/plain": [
       "<Figure size 432x288 with 1 Axes>"
      ]
     },
     "metadata": {},
     "output_type": "display_data"
    }
   ],
   "source": [
    "# gender distribution\n",
    "sns.set_style(\"white\")\n",
    "gender_data_eng = [translate_gender(i) for i in gender_data_parsed]\n",
    "gender_data = pd.DataFrame(gender_data_eng, columns=['Gender'])\n",
    "print(gender_data)\n",
    "ax = sns.countplot(data=gender_data, y=\"Gender\", order=[\"M\", \"F\"], color=(110/255,138/255,200/255))\n",
    "ax.xaxis.set_major_locator(MaxNLocator(integer=True))\n",
    "ax.set_xticks([])\n",
    "ax.set(xlabel=\"Number of Students\", ylabel=\"Gender\")\n",
    "for i, p in enumerate(ax.patches):\n",
    "    print(p)\n",
    "    width = p.get_width()\n",
    "    ax.text(width + 0.6, p.get_y()+p.get_height()/2+0.1, p.get_width(),ha=\"center\")\n",
    "sns.despine(bottom = True, left = True)\n"
   ]
  },
  {
   "cell_type": "code",
   "execution_count": 17,
   "metadata": {},
   "outputs": [
    {
     "name": "stdout",
     "output_type": "stream",
     "text": [
      "['10th Grade', '10th Grade', '10th Grade', '10th Grade', '12th Grade', '10th Grade', '10th Grade', '10th Grade', '10th Grade', '10th Grade', '10th Grade', '10th Grade', '10th Grade', '10th Grade', '10th Grade', '11th Grade', '11th Grade', '10th Grade', '11th Grade', '10th Grade', '12th Grade', '12th Grade', '12th Grade', '9th Grade', '12th Grade', '11th Grade', '10th Grade', '9th Grade', '9th Grade', '10th Grade', '11th Grade', '11th Grade', '11th Grade', '12th Grade', '12th Grade', '11th Grade', '12th Grade']\n",
      "37\n",
      "Rectangle(xy=(0, -0.4), width=3, height=0.8, angle=0)\n",
      "Rectangle(xy=(0, 0.6), width=18, height=0.8, angle=0)\n",
      "Rectangle(xy=(0, 1.6), width=8, height=0.8, angle=0)\n",
      "Rectangle(xy=(0, 2.6), width=8, height=0.8, angle=0)\n"
     ]
    },
    {
     "data": {
      "image/png": "[encoded data removed]",
      "text/plain": [
       "<Figure size 432x288 with 1 Axes>"
      ]
     },
     "metadata": {},
     "output_type": "display_data"
    }
   ],
   "source": [
    "# grade distribution\n",
    "from matplotlib.ticker import MaxNLocator\n",
    "sns.set_style(\"white\")\n",
    "grade_data_eng = [translate_grade(i) for i in grade_data_parsed]\n",
    "print(grade_data_eng)\n",
    "print(len(grade_data_eng))\n",
    "grade_data = pd.DataFrame(grade_data_eng, columns=['Grade'])\n",
    "\n",
    "# ax = sns.countplot(data=grade_data, y=\"Grade\", order=[\"3e middelbaar\", \"4e middelbaar\", \"5e middelbaar\", \"6e middelbaar\"])\n",
    "ax = sns.countplot(data=grade_data, y=\"Grade\", order=[\"9th Grade\",\"10th Grade\", \"11th Grade\", \"12th Grade\"], color=(110/255,138/255,200/255))\n",
    "ax.xaxis.set_major_locator(MaxNLocator(integer=True))\n",
    "ax.set_xticks([])\n",
    "ax.set(xlabel=\"Number of Students\", ylabel=\"Grade\")\n",
    "for i, p in enumerate(ax.patches):\n",
    "    print(p)\n",
    "    width = p.get_width()\n",
    "    ax.text(width + 0.5, p.get_y()+p.get_height()/2+0.1, p.get_width(),ha=\"center\")\n",
    "sns.despine(bottom = True, left = True)\n",
    "plt.subplots_adjust(wspace = 0.5)\n"
   ]
  },
  {
   "cell_type": "code",
   "execution_count": 18,
   "metadata": {},
   "outputs": [
    {
     "name": "stdout",
     "output_type": "stream",
     "text": [
      "Rectangle(xy=(0, -0.4), width=3, height=0.8, angle=0)\n",
      "Rectangle(xy=(0, 0.6), width=2, height=0.8, angle=0)\n",
      "Rectangle(xy=(0, 1.6), width=5, height=0.8, angle=0)\n",
      "Rectangle(xy=(0, 2.6), width=16, height=0.8, angle=0)\n",
      "Rectangle(xy=(0, 3.6), width=6, height=0.8, angle=0)\n",
      "Rectangle(xy=(0, 4.6), width=2, height=0.8, angle=0)\n",
      "Rectangle(xy=(0, 5.6), width=3, height=0.8, angle=0)\n"
     ]
    },
    {
     "data": {
      "image/png": "[encoded data removed]",
      "text/plain": [
       "<Figure size 432x288 with 1 Axes>"
      ]
     },
     "metadata": {},
     "output_type": "display_data"
    }
   ],
   "source": [
    "# hours math distribution\n",
    "sns.set_style(\"white\")\n",
    "hours_data = pd.DataFrame([int(i) for i in uren_data_parsed], columns=['Hours'])\n",
    "ax = sns.countplot(data=hours_data, y=\"Hours\", order=[2,3,4,5,6,7,8], color=(110/255,138/255,200/255))\n",
    "ax.xaxis.set_major_locator(MaxNLocator(integer=True))\n",
    "ax.set_xticks([])\n",
    "ax.set(xlabel=\"Number of Students\", ylabel=\"Hours of Math / Week\")\n",
    "for i, p in enumerate(ax.patches):\n",
    "    print(p)\n",
    "    width = p.get_width()\n",
    "    ax.text(width + 0.6, p.get_y()+p.get_height()/2+0.1, p.get_width(),ha=\"center\")\n",
    "sns.despine(bottom = True, left = True)\n",
    "\n"
   ]
  },
  {
   "cell_type": "code",
   "execution_count": 19,
   "metadata": {},
   "outputs": [
    {
     "name": "stdout",
     "output_type": "stream",
     "text": [
      "Rectangle(xy=(0, 0.6), width=1, height=0.8, angle=0)\n",
      "Rectangle(xy=(0, 1.6), width=16, height=0.8, angle=0)\n",
      "Rectangle(xy=(0, 2.6), width=14, height=0.8, angle=0)\n",
      "Rectangle(xy=(0, 3.6), width=6, height=0.8, angle=0)\n"
     ]
    },
    {
     "data": {
      "image/png": "[encoded data removed]",
      "text/plain": [
       "<Figure size 432x288 with 1 Axes>"
      ]
     },
     "metadata": {},
     "output_type": "display_data"
    }
   ],
   "source": [
    "# math level distribution\n",
    "sns.set_style(\"white\")\n",
    "ml_data = pd.DataFrame([translate_level(i) for i in wiskunde_niveau_data_parsed], columns=['Level'])\n",
    "ax = sns.countplot(data=ml_data, y=\"Level\", order=[\"Very weak\", \"Weak\", \"Average\", \"Good\", \"Very good\"], color=(110/255,138/255,200/255))\n",
    "ax.xaxis.set_major_locator(MaxNLocator(integer=True))\n",
    "ax.set_xticks([])\n",
    "ax.set(xlabel=\"Number of Students\", ylabel=\"Math Level\")\n",
    "for i, p in enumerate(ax.patches):\n",
    "    if math.isnan(p.get_width()):\n",
    "        continue\n",
    "    print(p)\n",
    "    width = p.get_width()\n",
    "    ax.text(width + 0.6, p.get_y()+p.get_height()/2+0.1, str(int(p.get_width())),ha=\"center\")\n",
    "sns.despine(bottom = True, left = True)\n",
    "\n"
   ]
  },
  {
   "cell_type": "code",
   "execution_count": 20,
   "metadata": {},
   "outputs": [
    {
     "name": "stdout",
     "output_type": "stream",
     "text": [
      "Rectangle(xy=(0, 0.6), width=2, height=0.8, angle=0)\n",
      "Rectangle(xy=(0, 1.6), width=10, height=0.8, angle=0)\n",
      "Rectangle(xy=(0, 2.6), width=23, height=0.8, angle=0)\n",
      "Rectangle(xy=(0, 3.6), width=2, height=0.8, angle=0)\n"
     ]
    },
    {
     "data": {
      "image/png": "[encoded data removed]",
      "text/plain": [
       "<Figure size 432x288 with 1 Axes>"
      ]
     },
     "metadata": {},
     "output_type": "display_data"
    }
   ],
   "source": [
    "# computer level distribution\n",
    "sns.set_style(\"white\")\n",
    "cl_data = pd.DataFrame([translate_level(i) for i in computer_niveau_data_parsed], columns=['Level'])\n",
    "ax = sns.countplot(data=cl_data, y=\"Level\", order=[\"Very weak\", \"Weak\", \"Average\", \"Good\", \"Very good\"], color=(110/255,138/255,200/255))\n",
    "ax.xaxis.set_major_locator(MaxNLocator(integer=True))\n",
    "ax.set_xticks([])\n",
    "ax.set(xlabel=\"Number of Students\", ylabel=\"Level with Computers\")\n",
    "for i, p in enumerate(ax.patches):\n",
    "    if math.isnan(p.get_width()):\n",
    "        continue\n",
    "    print(p)\n",
    "    width = p.get_width()\n",
    "    ax.text(width + 1, p.get_y()+p.get_height()/2+0.1, str(int(p.get_width())),ha=\"center\")\n",
    "sns.despine(bottom = True, left = True)\n",
    "\n"
   ]
  },
  {
   "cell_type": "code",
   "execution_count": 21,
   "metadata": {},
   "outputs": [
    {
     "name": "stdout",
     "output_type": "stream",
     "text": [
      "Rectangle(xy=(0, -0.4), width=21, height=0.8, angle=0)\n",
      "Rectangle(xy=(0, 0.6), width=16, height=0.8, angle=0)\n"
     ]
    },
    {
     "data": {
      "image/png": "[encoded data removed]",
      "text/plain": [
       "<Figure size 432x288 with 1 Axes>"
      ]
     },
     "metadata": {},
     "output_type": "display_data"
    }
   ],
   "source": [
    "# used another e-learning platform\n",
    "sns.set_style(\"white\")\n",
    "other_ep_data = pd.DataFrame([translate_yes_no(i) for i in andere_website_data_parsed], columns=['Yn'])\n",
    "ax = sns.countplot(data=other_ep_data, y=\"Yn\", order=[\"Yes\", \"No\"], color=(110/255,138/255,200/255))\n",
    "ax.xaxis.set_major_locator(MaxNLocator(integer=True))\n",
    "ax.set_xticks([])\n",
    "ax.set(xlabel=\"Number of Students\", ylabel=\"Used Another E-Learning Platform?\")\n",
    "for i, p in enumerate(ax.patches):\n",
    "    print(p)\n",
    "    width = p.get_width()\n",
    "    ax.text(width + 0.6, p.get_y()+p.get_height()/2+0.1, p.get_width(),ha=\"center\")\n",
    "sns.despine(bottom = True, left = True)\n",
    "\n"
   ]
  }
 ],
 "metadata": {
  "kernelspec": {
   "display_name": "Python 3",
   "language": "python",
   "name": "python3"
  },
  "language_info": {
   "codemirror_mode": {
    "name": "ipython",
    "version": 3
   },
   "file_extension": ".py",
   "mimetype": "text/x-python",
   "name": "python",
   "nbconvert_exporter": "python",
   "pygments_lexer": "ipython3",
   "version": "3.8.3"
  }
 },
 "nbformat": 4,
 "nbformat_minor": 4
}
