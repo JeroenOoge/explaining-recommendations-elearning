{
 "cells": [
  {
   "cell_type": "code",
   "execution_count": 1,
   "metadata": {},
   "outputs": [],
   "source": [
    "import numpy as np\n",
    "import pandas as pd\n",
    "import scipy\n",
    "from matplotlib import pyplot as plt\n",
    "import seaborn as sns\n",
    "from matplotlib.ticker import MaxNLocator"
   ]
  },
  {
   "cell_type": "code",
   "execution_count": 2,
   "metadata": {},
   "outputs": [],
   "source": [
    "df_pre = pd.read_csv('../Datasets/data/pre_study_questionnaire_updated.csv', sep=\",\")\n",
    "df = pd.read_csv('../Datasets/data/post_study_questionnaire_updated.csv', sep=\",\")\n",
    "rg_df = pd.read_csv('../Datasets/data/field_data_field_research_group_updated.csv', sep=\",\")\n",
    "recommendation_clicks_df = pd.read_csv('../Datasets/data/wiski_log_recommendation_clicks_updated.csv', sep=\",\")\n",
    "quiz_result_answer_df = pd.read_csv('../Datasets/data/quiz_node_results_answers_updated.csv', sep=\",\")\n",
    "quiz_result_df = pd.read_csv('../Datasets/data/quiz_node_results_updated.csv', sep=\",\")"
   ]
  },
  {
   "cell_type": "code",
   "execution_count": 3,
   "metadata": {},
   "outputs": [],
   "source": [
    "df = df[df['Serienummer']>7]\n",
    "df_pre = df_pre[df_pre[\"Serienummer\"]>12]\n",
    "result_df = pd.merge(df,rg_df,how='inner', left_on='UID',right_on='entity_id')\n",
    "grade_df = df_pre[['UID', 'In welk leerjaar zit je?']]\n",
    "result_df = pd.merge(result_df,grade_df,how='inner',left_on='UID',right_on='UID')\n",
    "result_df = result_df.drop_duplicates(subset=['UID']) \n",
    "result_df = result_df[result_df['In welk leerjaar zit je?']!=\" Anders\"]"
   ]
  },
  {
   "cell_type": "code",
   "execution_count": 4,
   "metadata": {},
   "outputs": [
    {
     "data": {
      "text/plain": [
       "37"
      ]
     },
     "execution_count": 4,
     "metadata": {},
     "output_type": "execute_result"
    }
   ],
   "source": [
    "valid_uids = set(result_df['UID'].unique())\n",
    "len(valid_uids)"
   ]
  },
  {
   "cell_type": "code",
   "execution_count": 5,
   "metadata": {},
   "outputs": [
    {
     "name": "stdout",
     "output_type": "stream",
     "text": [
      "737\n",
      "472\n"
     ]
    }
   ],
   "source": [
    "print(len(recommendation_clicks_df))\n",
    "recommendation_clicks_df = recommendation_clicks_df[recommendation_clicks_df[\"uid\"].isin(valid_uids)]\n",
    "recommendation_clicks_df.columns=recommendation_clicks_df.columns.str.strip()\n",
    "print(len(recommendation_clicks_df))"
   ]
  },
  {
   "cell_type": "code",
   "execution_count": 6,
   "metadata": {},
   "outputs": [
    {
     "name": "stdout",
     "output_type": "stream",
     "text": [
      "{'Button: Oefeningenoverzicht': 12, 'Button: First Recommended': 21, 'Button: Onderwerpenoverzicht': 3, 'Button: Second Recommended': 1}\n"
     ]
    }
   ],
   "source": [
    "# recommendation_clicks_df[recommendation_clicks_df['uid']==1921].dtypes\n",
    "counts = dict()\n",
    "valid_uids = list(valid_uids)\n",
    "for uid in valid_uids:\n",
    "    uid_df = recommendation_clicks_df[recommendation_clicks_df['uid']==uid]\n",
    "    sorted_df = uid_df.sort_values(by=[\"timestamp\"], axis=0)\n",
    "\n",
    "    last_row = sorted_df.iloc[-1]\n",
    "    last_click = last_row['element']\n",
    "    count = counts.get(last_click, 0)\n",
    "    counts[last_click] = count + 1\n",
    "print(counts)"
   ]
  },
  {
   "cell_type": "code",
   "execution_count": 7,
   "metadata": {},
   "outputs": [],
   "source": [
    "valid_uids = list(valid_uids)\n",
    "for uid in valid_uids:\n",
    "    uid_df = recommendation_clicks_df[recommendation_clicks_df['uid']==uid]\n",
    "    sorted_df = uid_df.sort_values(by=[\"timestamp\"], axis=0)\n",
    "    recommendation_clicks_df.drop(sorted_df.iloc[0].name,  inplace=True)"
   ]
  },
  {
   "cell_type": "code",
   "execution_count": 8,
   "metadata": {},
   "outputs": [],
   "source": [
    "mapping = dict()\n",
    "valid_uids = list(valid_uids)\n",
    "initial_rec_click_df = pd.DataFrame(columns=recommendation_clicks_df.columns)\n",
    "for uid in valid_uids:\n",
    "    uid_df = recommendation_clicks_df[recommendation_clicks_df['uid']==uid]\n",
    "    sorted_df = uid_df.sort_values(by=[\"timestamp\"], axis=0)\n",
    "    first_five_df = sorted_df.head(5)\n",
    "    initial_rec_click_df=initial_rec_click_df.append(first_five_df)"
   ]
  },
  {
   "cell_type": "code",
   "execution_count": 9,
   "metadata": {},
   "outputs": [
    {
     "data": {
      "text/plain": [
       "array(['3rd Recommendation', 'Not Accepted', '1st Recommendation',\n",
       "       '2nd Recommendation', 'Button: Onderwerpenoverzicht'], dtype=object)"
      ]
     },
     "execution_count": 9,
     "metadata": {},
     "output_type": "execute_result"
    }
   ],
   "source": [
    "initial_rec_click_df\n",
    "clone = initial_rec_click_df\n",
    "clone[\"element\"].replace({\"Button: Third Recommended\":\"3rd Recommendation\",\"Button: First Recommended\":\"1st Recommendation\",\"Button: Second Recommended\":\"2nd Recommendation\",\"Button: Oefeningenoverzicht\":\"Not Accepted\"}, inplace=True)\n",
    "clone[\"element\"].unique()"
   ]
  },
  {
   "cell_type": "markdown",
   "metadata": {},
   "source": [
    "# Button Clicked Plot"
   ]
  },
  {
   "cell_type": "code",
   "execution_count": 10,
   "metadata": {},
   "outputs": [
    {
     "name": "stdout",
     "output_type": "stream",
     "text": [
      "Rectangle(xy=(0, -0.4), width=115, height=0.8, angle=0)\n",
      "Rectangle(xy=(0, 0.6), width=4, height=0.8, angle=0)\n",
      "Rectangle(xy=(0, 1.6), width=9, height=0.8, angle=0)\n",
      "Rectangle(xy=(0, 2.6), width=35, height=0.8, angle=0)\n"
     ]
    },
    {
     "data": {
      "image/png": "[encoded data removed]",
      "text/plain": [
       "<Figure size 432x288 with 1 Axes>"
      ]
     },
     "metadata": {},
     "output_type": "display_data"
    }
   ],
   "source": [
    "buttons = [\"1st Recommendation\", \"2nd Recommendation\", \"3rd Recommendation\", \"Not Accepted\"]\n",
    "ax = sns.countplot(data=clone, y=\"element\", order=buttons, color=\"gray\")\n",
    "ax.xaxis.set_major_locator(MaxNLocator(integer=True))\n",
    "ax.set_xticks([])\n",
    "ax.tick_params(axis='both', which='both', length=0)\n",
    "for i, p in enumerate(ax.patches):\n",
    "    print(p)\n",
    "    width = p.get_width()\n",
    "    ax.text(width + 4, p.get_y()+p.get_height()/2+0.1, p.get_width(),ha=\"center\")\n",
    "sns.despine(bottom = True, left = True)\n",
    "ax.set(ylabel=\"\", xlabel=\"Number of Clicks\")\n",
    "ax.set_aspect(\"14\")\n",
    "plt.gcf().set_facecolor('white')\n",
    "plt.savefig('../Images/rec_clicks.pdf', bbox_inches='tight', format=\"pdf\")\n"
   ]
  },
  {
   "cell_type": "markdown",
   "metadata": {},
   "source": [
    "# Correlation Matrices"
   ]
  },
  {
   "cell_type": "code",
   "execution_count": 11,
   "metadata": {},
   "outputs": [],
   "source": [
    "joined_df = pd.merge(quiz_result_df,quiz_result_answer_df,how='right', left_on='result_id',right_on='result_id')"
   ]
  },
  {
   "cell_type": "code",
   "execution_count": 12,
   "metadata": {},
   "outputs": [],
   "source": [
    "joined_df = joined_df[joined_df[\"uid\"].isin(valid_uids)]"
   ]
  },
  {
   "cell_type": "code",
   "execution_count": 13,
   "metadata": {},
   "outputs": [],
   "source": [
    "rg_df = rg_df[['entity_id', 'field_research_group_value']]\n",
    "df = pd.merge(rg_df,initial_rec_click_df,how='right',left_on='entity_id',right_on='uid')\n",
    "df = df[df[\"uid\"].isin(valid_uids)]"
   ]
  },
  {
   "cell_type": "code",
   "execution_count": 14,
   "metadata": {},
   "outputs": [],
   "source": [
    "real_df = df[df[\"field_research_group_value\"]==0]\n",
    "placebo_df = df[df[\"field_research_group_value\"]==1] \n",
    "nothing_df = df[df[\"field_research_group_value\"]==2]"
   ]
  },
  {
   "cell_type": "markdown",
   "metadata": {},
   "source": [
    "Find the proportion of recommendations"
   ]
  },
  {
   "cell_type": "code",
   "execution_count": 15,
   "metadata": {},
   "outputs": [],
   "source": [
    "real_cut_df = real_df[['uid', 'element']]\n",
    "placebo_cut_df = placebo_df[['uid', 'element']]\n",
    "nothing_cut_df = nothing_df[['uid', 'element']]"
   ]
  },
  {
   "cell_type": "code",
   "execution_count": 16,
   "metadata": {},
   "outputs": [],
   "source": [
    "grouped_multiple = real_cut_df.groupby(['uid', 'element']).agg({'element': ['count']})\n",
    "grouped_multiple.columns = ['count']\n",
    "grouped_multiple = grouped_multiple.reset_index()\n",
    "grouped_multiple_2 = real_df.groupby(['uid']).agg({'element': ['count']})\n",
    "grouped_multiple_2.columns = ['count_total']\n",
    "grouped_multiple_2 = grouped_multiple_2.reset_index()\n",
    "grouped_multiple = pd.merge(grouped_multiple, grouped_multiple_2, how=\"left\", left_on=\"uid\", right_on=\"uid\")\n",
    "grouped_multiple[\"proportion\"] = grouped_multiple['count']/grouped_multiple['count_total']\n",
    "grouped_multiple_real = grouped_multiple"
   ]
  },
  {
   "cell_type": "code",
   "execution_count": 17,
   "metadata": {},
   "outputs": [],
   "source": [
    "grouped_multiple = placebo_cut_df.groupby(['uid', 'element']).agg({'element': ['count']})\n",
    "grouped_multiple.columns = ['count']\n",
    "grouped_multiple = grouped_multiple.reset_index()\n",
    "grouped_multiple_2 = placebo_df.groupby(['uid']).agg({'element': ['count']})\n",
    "grouped_multiple_2.columns = ['count_total']\n",
    "grouped_multiple_2 = grouped_multiple_2.reset_index()\n",
    "grouped_multiple = pd.merge(grouped_multiple, grouped_multiple_2, how=\"left\", left_on=\"uid\", right_on=\"uid\")\n",
    "grouped_multiple[\"proportion\"] = grouped_multiple['count']/grouped_multiple['count_total']\n",
    "grouped_multiple_placebo = grouped_multiple"
   ]
  },
  {
   "cell_type": "code",
   "execution_count": 18,
   "metadata": {
    "scrolled": true
   },
   "outputs": [],
   "source": [
    "grouped_multiple = nothing_cut_df.groupby(['uid', 'element']).agg({'element': ['count']})\n",
    "grouped_multiple.columns = ['count']\n",
    "grouped_multiple = grouped_multiple.reset_index()\n",
    "grouped_multiple_2 = nothing_df.groupby(['uid']).agg({'element': ['count']})\n",
    "grouped_multiple_2.columns = ['count_total']\n",
    "grouped_multiple_2 = grouped_multiple_2.reset_index()\n",
    "grouped_multiple = pd.merge(grouped_multiple, grouped_multiple_2, how=\"left\", left_on=\"uid\", right_on=\"uid\")\n",
    "grouped_multiple[\"proportion\"] = grouped_multiple['count']/grouped_multiple['count_total']\n",
    "grouped_multiple_nothing = grouped_multiple"
   ]
  },
  {
   "cell_type": "code",
   "execution_count": 19,
   "metadata": {},
   "outputs": [],
   "source": [
    "grouped_multiple = grouped_multiple_real\n",
    "grouped_multiple_accept_real = grouped_multiple[grouped_multiple['element']!=\"Not Accept\"]\n",
    "grouped_multiple_accept_real = grouped_multiple_accept_real.groupby(['uid']).agg({'proportion': ['sum']})\n",
    "grouped_multiple_accept_real.columns = ['acceptance']\n",
    "grouped_multiple_accept_real = grouped_multiple_accept_real.reset_index()\n",
    "grouped_multiple_accept_real[\"Research Group\"] = \"IRE\""
   ]
  },
  {
   "cell_type": "code",
   "execution_count": 20,
   "metadata": {},
   "outputs": [],
   "source": [
    "grouped_multiple = grouped_multiple_placebo\n",
    "grouped_multiple_accept_placebo = grouped_multiple[grouped_multiple['element']!=\"Not Accept\"]\n",
    "grouped_multiple_accept_placebo = grouped_multiple_accept_placebo.groupby(['uid']).agg({'proportion': ['sum']})\n",
    "grouped_multiple_accept_placebo.columns = ['acceptance']\n",
    "grouped_multiple_accept_placebo = grouped_multiple_accept_placebo.reset_index()\n",
    "grouped_multiple_accept_placebo[\"Research Group\"] = \"IPE\""
   ]
  },
  {
   "cell_type": "code",
   "execution_count": 21,
   "metadata": {},
   "outputs": [],
   "source": [
    "grouped_multiple = grouped_multiple_nothing\n",
    "grouped_multiple_accept_nothing = grouped_multiple[grouped_multiple['element']!=\"Not Accept\"]\n",
    "grouped_multiple_accept_nothing = grouped_multiple_accept_nothing.groupby(['uid']).agg({'proportion': ['sum']})\n",
    "grouped_multiple_accept_nothing.columns = ['acceptance']\n",
    "grouped_multiple_accept_nothing = grouped_multiple_accept_nothing.reset_index()\n",
    "grouped_multiple_accept_nothing[\"Research Group\"] = \"INE\""
   ]
  },
  {
   "cell_type": "code",
   "execution_count": 22,
   "metadata": {},
   "outputs": [],
   "source": [
    "frames = [grouped_multiple_accept_real, grouped_multiple_accept_placebo, grouped_multiple_accept_nothing]\n",
    "acceptance_df = pd.concat(frames)"
   ]
  },
  {
   "cell_type": "code",
   "execution_count": 23,
   "metadata": {},
   "outputs": [],
   "source": [
    "q1 = '1. Wiski is zoals een expert (bv. een leerkracht) in wiskunde-oefeningen aanraden.'\n",
    "q2 = '2. Wiski heeft de expertise (kennis) om mijn wiskundeniveau te kunnen inschatten.'\n",
    "q3 = '3. Wiski kan mijn wiskundeniveau inschatten.'\n",
    "q4 = '4. Wiski begrijpt de moeilijkheidsgraad van wiskunde-oefeningen goed.'\n",
    "q5 = '5. Wiski houdt rekening met mijn wiskundeniveau om oefeningen aan te raden.'\n",
    "q6 = '6. Wiski zet op de eerste plaats dat ik vorderingen maak in wiskunde.'\n",
    "q7 = '7. Wanneer Wiski oefeningen aanraadt, doet Wiski dat zodat ik vorderingen maak in wiskunde.'\n",
    "q8 = '8. Wiski wilt mijn wiskundeniveau goed inschatten.'\n",
    "q9 = '9. Wiski raadt oefeningen op een zo correct mogelijke manier aan.'\n",
    "q10 = '10. Wiski is eerlijk.'\n",
    "q11 = '11. Wiski maakt oprechte aanbevelingen.'\n",
    "q12 = '12. Ik vertrouw Wiski om mij wiskunde-oefeningen aan te raden.'\n",
    "q13 = '13. Als ik nog eens online wiskunde-oefeningen maak, dan kies ik voor Wiski.'\n",
    "q14 = '14. Als ik nog eens wiskunde-oefeningen aangeraden wil krijgen, dan kies ik voor Wiski.'\n",
    "q15 = '15. Ik vind dat Wiski genoeg uitleg geeft over waarom een oefening aangeraden is.'\n",
    "q16 = '16. Wanneer ik Wiski gebruik, wil ik GEEN uitleg over waarom een oefening wordt aangeraden.'\n",
    "q17 = '17. Ik vind uitleg krijgen over waarom een oefening wordt aangeraden belangrijker dan waarom een film wordt aangeraden.'\n",
    "q18 = '18. Ik ben NIET blij met het niveau van de oefeningen die Wiski aanraadde.'\n",
    "q19 = '19. In het algemeen vind ik het belangrijk om uitleg te krijgen wanneer iets (oefening/film/product/...) wordt aangeraden.'\n",
    "\n",
    "\n",
    "def map_likert_to_int(key):\n",
    "    if key == \"Helemaal oneens\":\n",
    "        return 1\n",
    "    elif key == \"Oneens\":\n",
    "        return 2\n",
    "    elif key == \"Eerder oneens\":\n",
    "        return 3\n",
    "    elif key == \"Neutraal\":\n",
    "        return 4\n",
    "    elif key == \"Eerder eens\":\n",
    "        return 5\n",
    "    elif key == \"Eens\":\n",
    "        return 6\n",
    "    elif key == \"Helemaal eens\":\n",
    "        return 7\n",
    "def dic_scores_competence(df):\n",
    "    scores = dict()\n",
    "    for i in range(len(df)):\n",
    "        row = df.iloc[i]\n",
    "        score = 0\n",
    "        score += int(map_likert_to_int(row[q1].strip()))\n",
    "        score += int(map_likert_to_int(row[q2].strip()))\n",
    "        score += int(map_likert_to_int(row[q3].strip()))\n",
    "        score += int(map_likert_to_int(row[q4].strip()))\n",
    "        score += int(map_likert_to_int(row[q5].strip()))\n",
    "        scores[row['UID']] = score/5\n",
    "    return scores\n",
    "def dic_scores_benevolence(df):\n",
    "    scores = dict()\n",
    "    for i in range(len(df)):\n",
    "        row = df.iloc[i]\n",
    "        score = 0\n",
    "        score += int(map_likert_to_int(row[q6].strip()))\n",
    "        score += int(map_likert_to_int(row[q7].strip()))\n",
    "        score += int(map_likert_to_int(row[q8].strip()))\n",
    "        scores[row['UID']] = score/3\n",
    "    return scores\n",
    "def dic_scores_integrity(df):\n",
    "    scores = dict()\n",
    "    for i in range(len(df)):\n",
    "        row = df.iloc[i]\n",
    "        score = 0\n",
    "        score += int(map_likert_to_int(row[q9].strip()))\n",
    "        score += int(map_likert_to_int(row[q10].strip()))\n",
    "        score += int(map_likert_to_int(row[q11].strip()))\n",
    "        scores[row['UID']] = score/3\n",
    "    return scores       \n",
    "def dic_scores_trusting_beliefs(competence, benevolence, integrity):\n",
    "    scores = dict()\n",
    "    for pair in competence.items():\n",
    "        uid = pair[0]\n",
    "        scores[uid] = competence[uid]+benevolence[uid]+integrity[uid]\n",
    "    return scores\n",
    "def dic_scores_perceived_transparency(df):\n",
    "    scores = dict()\n",
    "    for i in range(len(df)):\n",
    "        row = df.iloc[i]\n",
    "        score = 0\n",
    "        score += int(map_likert_to_int(row[q15].strip()))\n",
    "        scores[row['UID']] = score\n",
    "    return scores\n",
    "def dic_scores_intention_to_return(df):\n",
    "    scores = dict()\n",
    "    for i in range(len(df)):\n",
    "        row = df.iloc[i]\n",
    "        score = 0\n",
    "        score += int(map_likert_to_int(row[q13].strip()))\n",
    "        score += int(map_likert_to_int(row[q14].strip()))\n",
    "        scores[row['UID']] = score/2\n",
    "    return scores\n",
    "def dic_scores_single_q(df, q_number):\n",
    "    scores = dict()\n",
    "    for i in range(len(df)):\n",
    "        row = df.iloc[i]\n",
    "        score = 0\n",
    "        score += int(map_likert_to_int(row[q_number].strip()))\n",
    "        scores[row['UID']] = score\n",
    "    return scores\n",
    "def dic_scores_md_trust(trusting_beliefs, intention_to_return, perceived_transparency):\n",
    "    scores = dict()\n",
    "    for pair in trusting_beliefs.items():\n",
    "        uid = pair[0]\n",
    "        scores[uid] = trusting_beliefs[uid] + intention_to_return[uid] + perceived_transparency[uid]\n",
    "    return scores\n",
    "def dic_scores_md_trust_reweighted(trusting_beliefs, intention_to_return, perceived_transparency):\n",
    "    scores = dict()\n",
    "    for pair in trusting_beliefs.items():\n",
    "        uid = pair[0]\n",
    "        scores[uid] = (trusting_beliefs[uid]/3 + intention_to_return[uid] + perceived_transparency[uid])/3\n",
    "    return scores"
   ]
  },
  {
   "cell_type": "code",
   "execution_count": 24,
   "metadata": {},
   "outputs": [],
   "source": [
    "result_df = pd.merge(result_df,rg_df,how='inner', left_on='UID',right_on='entity_id')\n",
    "result_df = result_df.rename(columns={'field_research_group_value_x': 'field_research_group_value'})"
   ]
  },
  {
   "cell_type": "code",
   "execution_count": 25,
   "metadata": {
    "scrolled": true
   },
   "outputs": [],
   "source": [
    "result_real_df = result_df[result_df[\"field_research_group_value\"]==0]\n",
    "result_placebo_df = result_df[result_df[\"field_research_group_value\"]==1]\n",
    "result_nothing_df = result_df[result_df[\"field_research_group_value\"]==2]\n"
   ]
  },
  {
   "cell_type": "code",
   "execution_count": 26,
   "metadata": {},
   "outputs": [],
   "source": [
    "competence_scores_real = dic_scores_competence(result_real_df)\n",
    "competence_scores_placebo = dic_scores_competence(result_placebo_df)\n",
    "competence_scores_nothing = dic_scores_competence(result_nothing_df)\n",
    "competence_scores = dict(competence_scores_real)\n",
    "competence_scores.update(competence_scores_placebo)\n",
    "competence_scores.update(competence_scores_nothing)\n",
    "competence_df = pd.DataFrame.from_dict(competence_scores, orient=\"index\", columns=[\"Competence\"]).reset_index()\n",
    "competence_df.columns = [\"uid\", \"Competence\"]\n",
    "\n",
    "benevolence_scores_real = dic_scores_benevolence(result_real_df)\n",
    "benevolence_scores_placebo = dic_scores_benevolence(result_placebo_df)\n",
    "benevolence_scores_nothing = dic_scores_benevolence(result_nothing_df)\n",
    "benevolence_scores = dict(benevolence_scores_real)\n",
    "benevolence_scores.update(benevolence_scores_placebo)\n",
    "benevolence_scores.update(benevolence_scores_nothing)\n",
    "benevolence_df = pd.DataFrame.from_dict(benevolence_scores, orient=\"index\").reset_index()\n",
    "benevolence_df.columns = [\"uid\", \"Benevolence\"]\n",
    "\n",
    "\n",
    "integrity_scores_real = dic_scores_integrity(result_real_df)\n",
    "integrity_scores_placebo = dic_scores_integrity(result_placebo_df)\n",
    "integrity_scores_nothing = dic_scores_integrity(result_nothing_df)\n",
    "integrity_scores = dict(integrity_scores_real)\n",
    "integrity_scores.update(integrity_scores_placebo)\n",
    "integrity_scores.update(integrity_scores_nothing)\n",
    "integrity_df = pd.DataFrame.from_dict(integrity_scores, orient=\"index\").reset_index()\n",
    "integrity_df.columns = [\"uid\", \"Integrity\"]\n",
    "\n",
    "\n",
    "\n",
    "trusting_beliefs_scores_real = dic_scores_trusting_beliefs(competence_scores_real, benevolence_scores_real, integrity_scores_real)\n",
    "trusting_beliefs_scores_placebo = dic_scores_trusting_beliefs(competence_scores_placebo, benevolence_scores_placebo, integrity_scores_placebo)\n",
    "trusting_beliefs_scores_nothing = dic_scores_trusting_beliefs(competence_scores_nothing, benevolence_scores_nothing, integrity_scores_nothing)\n",
    "trusting_beliefs_scores = dict(trusting_beliefs_scores_real)\n",
    "trusting_beliefs_scores.update(trusting_beliefs_scores_placebo)\n",
    "trusting_beliefs_scores.update(trusting_beliefs_scores_nothing)\n",
    "trusting_beliefs_df = pd.DataFrame.from_dict(trusting_beliefs_scores, orient=\"index\").reset_index()\n",
    "trusting_beliefs_df.columns = [\"uid\", \"Trusting Beliefs\"]\n",
    "\n",
    "\n",
    "\n",
    "itr_scores_real = dic_scores_intention_to_return(result_real_df)\n",
    "itr_scores_placebo = dic_scores_intention_to_return(result_placebo_df)\n",
    "itr_scores_nothing = dic_scores_intention_to_return(result_nothing_df)\n",
    "itr_scores = dict(itr_scores_real)\n",
    "itr_scores.update(itr_scores_placebo)\n",
    "itr_scores.update(itr_scores_nothing)\n",
    "itr_df = pd.DataFrame.from_dict(itr_scores, orient=\"index\").reset_index()\n",
    "itr_df.columns = [\"uid\", \"Intention to Return\"]\n",
    "\n",
    "pt_scores_real = dic_scores_perceived_transparency(result_real_df)\n",
    "pt_scores_placebo = dic_scores_perceived_transparency(result_placebo_df)\n",
    "pt_scores_nothing = dic_scores_perceived_transparency(result_nothing_df)\n",
    "pt_scores = dict(pt_scores_real)\n",
    "pt_scores.update(pt_scores_placebo)\n",
    "pt_scores.update(pt_scores_nothing)\n",
    "pt_df = pd.DataFrame.from_dict(pt_scores, orient=\"index\").reset_index()\n",
    "pt_df.columns = [\"uid\", \"Perceived Transparency\"]\n",
    "\n",
    "\n",
    "explicit_trust_scores_real = dic_scores_single_q(result_real_df, q12)\n",
    "explicit_trust_scores_placebo = dic_scores_single_q(result_placebo_df, q12)\n",
    "explicit_trust_scores_nothing = dic_scores_single_q(result_nothing_df, q12)\n",
    "explicit_trust_scores = dict(explicit_trust_scores_real)\n",
    "explicit_trust_scores.update(explicit_trust_scores_placebo)\n",
    "explicit_trust_scores.update(explicit_trust_scores_nothing)\n",
    "explicit_trust_df = pd.DataFrame.from_dict(explicit_trust_scores, orient=\"index\").reset_index()\n",
    "explicit_trust_df.columns = [\"uid\", \"1D Trust\"]\n",
    "\n",
    "md_trust_scores_real = dic_scores_md_trust(trusting_beliefs_scores_real, itr_scores_real, pt_scores_real)\n",
    "md_trust_scores_placebo = dic_scores_md_trust(trusting_beliefs_scores_placebo, itr_scores_placebo, pt_scores_placebo)\n",
    "md_trust_scores_nothing = dic_scores_md_trust(trusting_beliefs_scores_nothing, itr_scores_nothing, pt_scores_nothing)\n",
    "md_trust_scores = dict(md_trust_scores_real)\n",
    "md_trust_scores.update(md_trust_scores_placebo)\n",
    "md_trust_scores.update(md_trust_scores_nothing)\n",
    "md_trust_df = pd.DataFrame.from_dict(md_trust_scores, orient=\"index\").reset_index()\n",
    "md_trust_df.columns = [\"uid\", \"MD Trust\"]\n",
    "\n",
    "\n",
    "rw_md_trust_scores_real = dic_scores_md_trust_reweighted(trusting_beliefs_scores_real, itr_scores_real, pt_scores_real)\n",
    "rw_md_trust_scores_placebo = dic_scores_md_trust_reweighted(trusting_beliefs_scores_placebo, itr_scores_placebo, pt_scores_placebo)\n",
    "rw_md_trust_scores_nothing = dic_scores_md_trust_reweighted(trusting_beliefs_scores_nothing, itr_scores_nothing, pt_scores_nothing)\n",
    "rw_md_trust_scores = dict(rw_md_trust_scores_real)\n",
    "rw_md_trust_scores.update(rw_md_trust_scores_placebo)\n",
    "rw_md_trust_scores.update(rw_md_trust_scores_nothing)\n",
    "rw_md_trust_df = pd.DataFrame.from_dict(rw_md_trust_scores, orient=\"index\").reset_index()\n",
    "rw_md_trust_df.columns = [\"uid\", \"MD Trust (RW)\"]"
   ]
  },
  {
   "cell_type": "code",
   "execution_count": 27,
   "metadata": {},
   "outputs": [],
   "source": [
    "response_df = pd.merge(competence_df, benevolence_df, how=\"inner\", left_on=\"uid\", right_on=\"uid\")\n",
    "response_df = pd.merge(response_df, integrity_df, how=\"inner\", left_on=\"uid\", right_on=\"uid\")\n",
    "response_df = pd.merge(response_df, trusting_beliefs_df, how=\"inner\", left_on=\"uid\", right_on=\"uid\")\n",
    "response_df = pd.merge(response_df, itr_df, how=\"inner\", left_on=\"uid\", right_on=\"uid\")\n",
    "response_df = pd.merge(response_df, pt_df, how=\"inner\", left_on=\"uid\", right_on=\"uid\")\n",
    "response_df = pd.merge(response_df, explicit_trust_df, how=\"inner\", left_on=\"uid\", right_on=\"uid\")\n",
    "response_df = pd.merge(response_df, md_trust_df, how=\"inner\", left_on=\"uid\", right_on=\"uid\")\n",
    "response_df = pd.merge(response_df, rw_md_trust_df, how=\"inner\", left_on=\"uid\", right_on=\"uid\")"
   ]
  },
  {
   "cell_type": "code",
   "execution_count": 28,
   "metadata": {},
   "outputs": [],
   "source": [
    "master_df = pd.merge(response_df, acceptance_df, how=\"inner\", left_on=\"uid\", right_on=\"uid\")"
   ]
  },
  {
   "cell_type": "code",
   "execution_count": 29,
   "metadata": {},
   "outputs": [],
   "source": [
    "master_df.columns = [\"uid\",\"Competence\", \"Benevolence\", \"Integrity\", \"Trusting Beliefs\", \"Intention to Return\", \"Perceived Transparency\", \"1D Trust\", \"MD Trust\", \"MD Trust (RW)\", \"Acceptance\", \"Research Group\"]"
   ]
  },
  {
   "cell_type": "code",
   "execution_count": 30,
   "metadata": {},
   "outputs": [
    {
     "data": {
      "text/html": [
       "<div>\n",
       "<style scoped>\n",
       "    .dataframe tbody tr th:only-of-type {\n",
       "        vertical-align: middle;\n",
       "    }\n",
       "\n",
       "    .dataframe tbody tr th {\n",
       "        vertical-align: top;\n",
       "    }\n",
       "\n",
       "    .dataframe thead th {\n",
       "        text-align: right;\n",
       "    }\n",
       "</style>\n",
       "<table border=\"1\" class=\"dataframe\">\n",
       "  <thead>\n",
       "    <tr style=\"text-align: right;\">\n",
       "      <th></th>\n",
       "      <th>Competence</th>\n",
       "      <th>Benevolence</th>\n",
       "      <th>Integrity</th>\n",
       "      <th>Trusting Beliefs</th>\n",
       "      <th>Intention to Return</th>\n",
       "      <th>Perceived Transparency</th>\n",
       "      <th>1D Trust</th>\n",
       "      <th>MD Trust</th>\n",
       "      <th>MD Trust (RW)</th>\n",
       "    </tr>\n",
       "  </thead>\n",
       "  <tbody>\n",
       "    <tr>\n",
       "      <th>Competence</th>\n",
       "      <td>1.00</td>\n",
       "      <td>0.43</td>\n",
       "      <td>0.65</td>\n",
       "      <td>0.78</td>\n",
       "      <td>0.52</td>\n",
       "      <td>0.17</td>\n",
       "      <td>0.69</td>\n",
       "      <td>0.69</td>\n",
       "      <td>0.58</td>\n",
       "    </tr>\n",
       "    <tr>\n",
       "      <th>Benevolence</th>\n",
       "      <td>0.43</td>\n",
       "      <td>1.00</td>\n",
       "      <td>0.39</td>\n",
       "      <td>0.61</td>\n",
       "      <td>0.41</td>\n",
       "      <td>0.06</td>\n",
       "      <td>0.40</td>\n",
       "      <td>0.51</td>\n",
       "      <td>0.38</td>\n",
       "    </tr>\n",
       "    <tr>\n",
       "      <th>Integrity</th>\n",
       "      <td>0.65</td>\n",
       "      <td>0.39</td>\n",
       "      <td>1.00</td>\n",
       "      <td>0.74</td>\n",
       "      <td>0.39</td>\n",
       "      <td>0.10</td>\n",
       "      <td>0.71</td>\n",
       "      <td>0.60</td>\n",
       "      <td>0.45</td>\n",
       "    </tr>\n",
       "    <tr>\n",
       "      <th>Trusting Beliefs</th>\n",
       "      <td>0.78</td>\n",
       "      <td>0.61</td>\n",
       "      <td>0.74</td>\n",
       "      <td>1.00</td>\n",
       "      <td>0.53</td>\n",
       "      <td>0.14</td>\n",
       "      <td>0.68</td>\n",
       "      <td>0.73</td>\n",
       "      <td>0.56</td>\n",
       "    </tr>\n",
       "    <tr>\n",
       "      <th>Intention to Return</th>\n",
       "      <td>0.52</td>\n",
       "      <td>0.41</td>\n",
       "      <td>0.39</td>\n",
       "      <td>0.53</td>\n",
       "      <td>1.00</td>\n",
       "      <td>0.04</td>\n",
       "      <td>0.52</td>\n",
       "      <td>0.56</td>\n",
       "      <td>0.51</td>\n",
       "    </tr>\n",
       "    <tr>\n",
       "      <th>Perceived Transparency</th>\n",
       "      <td>0.17</td>\n",
       "      <td>0.06</td>\n",
       "      <td>0.10</td>\n",
       "      <td>0.14</td>\n",
       "      <td>0.04</td>\n",
       "      <td>1.00</td>\n",
       "      <td>0.17</td>\n",
       "      <td>0.41</td>\n",
       "      <td>0.58</td>\n",
       "    </tr>\n",
       "    <tr>\n",
       "      <th>1D Trust</th>\n",
       "      <td>0.69</td>\n",
       "      <td>0.40</td>\n",
       "      <td>0.71</td>\n",
       "      <td>0.68</td>\n",
       "      <td>0.52</td>\n",
       "      <td>0.17</td>\n",
       "      <td>1.00</td>\n",
       "      <td>0.63</td>\n",
       "      <td>0.52</td>\n",
       "    </tr>\n",
       "    <tr>\n",
       "      <th>MD Trust</th>\n",
       "      <td>0.69</td>\n",
       "      <td>0.51</td>\n",
       "      <td>0.60</td>\n",
       "      <td>0.73</td>\n",
       "      <td>0.56</td>\n",
       "      <td>0.41</td>\n",
       "      <td>0.63</td>\n",
       "      <td>1.00</td>\n",
       "      <td>0.83</td>\n",
       "    </tr>\n",
       "    <tr>\n",
       "      <th>MD Trust (RW)</th>\n",
       "      <td>0.58</td>\n",
       "      <td>0.38</td>\n",
       "      <td>0.45</td>\n",
       "      <td>0.56</td>\n",
       "      <td>0.51</td>\n",
       "      <td>0.58</td>\n",
       "      <td>0.52</td>\n",
       "      <td>0.83</td>\n",
       "      <td>1.00</td>\n",
       "    </tr>\n",
       "  </tbody>\n",
       "</table>\n",
       "</div>"
      ],
      "text/plain": [
       "                        Competence  Benevolence  Integrity  Trusting Beliefs  \\\n",
       "Competence                    1.00         0.43       0.65              0.78   \n",
       "Benevolence                   0.43         1.00       0.39              0.61   \n",
       "Integrity                     0.65         0.39       1.00              0.74   \n",
       "Trusting Beliefs              0.78         0.61       0.74              1.00   \n",
       "Intention to Return           0.52         0.41       0.39              0.53   \n",
       "Perceived Transparency        0.17         0.06       0.10              0.14   \n",
       "1D Trust                      0.69         0.40       0.71              0.68   \n",
       "MD Trust                      0.69         0.51       0.60              0.73   \n",
       "MD Trust (RW)                 0.58         0.38       0.45              0.56   \n",
       "\n",
       "                        Intention to Return  Perceived Transparency  1D Trust  \\\n",
       "Competence                             0.52                    0.17      0.69   \n",
       "Benevolence                            0.41                    0.06      0.40   \n",
       "Integrity                              0.39                    0.10      0.71   \n",
       "Trusting Beliefs                       0.53                    0.14      0.68   \n",
       "Intention to Return                    1.00                    0.04      0.52   \n",
       "Perceived Transparency                 0.04                    1.00      0.17   \n",
       "1D Trust                               0.52                    0.17      1.00   \n",
       "MD Trust                               0.56                    0.41      0.63   \n",
       "MD Trust (RW)                          0.51                    0.58      0.52   \n",
       "\n",
       "                        MD Trust  MD Trust (RW)  \n",
       "Competence                  0.69           0.58  \n",
       "Benevolence                 0.51           0.38  \n",
       "Integrity                   0.60           0.45  \n",
       "Trusting Beliefs            0.73           0.56  \n",
       "Intention to Return         0.56           0.51  \n",
       "Perceived Transparency      0.41           0.58  \n",
       "1D Trust                    0.63           0.52  \n",
       "MD Trust                    1.00           0.83  \n",
       "MD Trust (RW)               0.83           1.00  "
      ]
     },
     "execution_count": 30,
     "metadata": {},
     "output_type": "execute_result"
    }
   ],
   "source": [
    "correlation_matrix = master_df[[\"Competence\", \"Benevolence\", \"Integrity\", \"Trusting Beliefs\", \"Intention to Return\", \"Perceived Transparency\", \"1D Trust\", \"MD Trust\", \"MD Trust (RW)\"]].corr(method=\"kendall\")\n",
    "round(correlation_matrix,2)"
   ]
  },
  {
   "cell_type": "code",
   "execution_count": 31,
   "metadata": {},
   "outputs": [],
   "source": [
    "construct_corr = correlation_matrix.loc[[\"Competence\", \"Benevolence\", \"Integrity\", \"Intention to Return\", \"Perceived Transparency\", \"1D Trust\"],[\"Competence\", \"Benevolence\", \"Integrity\", \"Intention to Return\", \"Perceived Transparency\", \"1D Trust\"]]"
   ]
  },
  {
   "cell_type": "code",
   "execution_count": 32,
   "metadata": {},
   "outputs": [],
   "source": [
    "def make_heatmap(data, path):\n",
    "    data_round = round(data,2)\n",
    "    ax = sns.heatmap(data_round, annot=True, cmap=sns.color_palette(\"RdBu_r\", as_cmap=True), vmin=-1, vmax=1, square=True)\n",
    "    ax.tick_params(axis='both', which='both', length=0)\n",
    "    plt.yticks(rotation=0)\n",
    "    plt.gcf().set_facecolor('white')\n",
    "    plt.savefig(path, bbox_inches=\"tight\", format=\"pdf\")"
   ]
  },
  {
   "cell_type": "code",
   "execution_count": 33,
   "metadata": {},
   "outputs": [
    {
     "data": {
      "image/png": "[encoded data removed]",
      "text/plain": [
       "<Figure size 432x288 with 2 Axes>"
      ]
     },
     "metadata": {},
     "output_type": "display_data"
    }
   ],
   "source": [
    "make_heatmap(construct_corr, \"../Images/corr_trustconstructs.pdf\")\n"
   ]
  },
  {
   "cell_type": "code",
   "execution_count": 34,
   "metadata": {},
   "outputs": [],
   "source": [
    "q16_scores_real = dic_scores_single_q(result_real_df, q16)\n",
    "q16_scores_placebo = dic_scores_single_q(result_placebo_df, q16)\n",
    "q16_scores_nothing = dic_scores_single_q(result_nothing_df, q16)\n",
    "q16_scores = dict(q16_scores_real)\n",
    "q16_scores.update(q16_scores_placebo)\n",
    "q16_scores.update(q16_scores_nothing)\n",
    "q16_df = pd.DataFrame.from_dict(q16_scores, orient=\"index\").reset_index()\n",
    "q16_df.columns = [\"uid\", \"Q16\"]\n",
    "\n",
    "\n",
    "q17_scores_real = dic_scores_single_q(result_real_df, q17)\n",
    "q17_scores_placebo = dic_scores_single_q(result_placebo_df, q17)\n",
    "q17_scores_nothing = dic_scores_single_q(result_nothing_df, q17)\n",
    "q17_scores = dict(q17_scores_real)\n",
    "q17_scores.update(q17_scores_placebo)\n",
    "q17_scores.update(q17_scores_nothing)\n",
    "q17_df = pd.DataFrame.from_dict(q17_scores, orient=\"index\").reset_index()\n",
    "q17_df.columns = [\"uid\", \"Q17\"]\n",
    "\n",
    "\n",
    "q18_scores_real = dic_scores_single_q(result_real_df, q18)\n",
    "q18_scores_placebo = dic_scores_single_q(result_placebo_df, q18)\n",
    "q18_scores_nothing = dic_scores_single_q(result_nothing_df, q18)\n",
    "q18_scores = [q18_scores_real, q18_scores_placebo, q18_scores_nothing]\n",
    "q18_scores = dict(q18_scores_real)\n",
    "q18_scores.update(q18_scores_placebo)\n",
    "q18_scores.update(q18_scores_nothing)\n",
    "q18_df = pd.DataFrame.from_dict(q18_scores, orient=\"index\").reset_index()\n",
    "q18_df.columns = [\"uid\", \"Q18\"]\n",
    "\n",
    "q19_scores_real = dic_scores_single_q(result_real_df, q19)\n",
    "q19_scores_placebo = dic_scores_single_q(result_placebo_df, q19)\n",
    "q19_scores_nothing = dic_scores_single_q(result_nothing_df, q19)\n",
    "q19_scores = [q19_scores_real, q19_scores_placebo, q19_scores_nothing]\n",
    "q19_scores = dict(q19_scores_real)\n",
    "q19_scores.update(q19_scores_placebo)\n",
    "q19_scores.update(q19_scores_nothing)\n",
    "q19_df = pd.DataFrame.from_dict(q19_scores, orient=\"index\").reset_index()\n",
    "q19_df.columns = [\"uid\", \"Q19\"]"
   ]
  },
  {
   "cell_type": "code",
   "execution_count": 35,
   "metadata": {},
   "outputs": [],
   "source": [
    "response_df = pd.merge(response_df, q16_df, how=\"inner\", left_on=\"uid\", right_on=\"uid\")\n",
    "response_df = pd.merge(response_df, q17_df, how=\"inner\", left_on=\"uid\", right_on=\"uid\")\n",
    "response_df = pd.merge(response_df, q18_df, how=\"inner\", left_on=\"uid\", right_on=\"uid\")\n",
    "response_df = pd.merge(response_df, q19_df, how=\"inner\", left_on=\"uid\", right_on=\"uid\")"
   ]
  },
  {
   "cell_type": "code",
   "execution_count": 36,
   "metadata": {},
   "outputs": [],
   "source": [
    "trust_correlation_matrix_augmented = response_df[[\"Competence\", \"Benevolence\", \"Integrity\", \"Trusting Beliefs\", \"Intention to Return\", \"Perceived Transparency\", \"1D Trust\", \"MD Trust\",  \"Q16\", \"Q17\", \"Q18\", \"Q19\"]].corr(method=\"kendall\")\n",
    "trust_correlation_matrix_augmented.at['Trusting Beliefs', 'MD Trust'] = correlation_matrix.loc['Trusting Beliefs', 'MD Trust (RW)'] \n",
    "trust_correlation_matrix_augmented.at['MD Trust', 'Trusting Beliefs'] = correlation_matrix.loc['Trusting Beliefs', 'MD Trust (RW)'] \n",
    "tail_matrix = trust_correlation_matrix_augmented.tail(4).iloc[:,:]"
   ]
  },
  {
   "cell_type": "code",
   "execution_count": 37,
   "metadata": {
    "scrolled": false
   },
   "outputs": [
    {
     "data": {
      "image/png": "[encoded data removed]",
      "text/plain": [
       "<Figure size 864x216 with 2 Axes>"
      ]
     },
     "metadata": {},
     "output_type": "display_data"
    }
   ],
   "source": [
    "plt.figure(figsize = (12,3))\n",
    "make_heatmap(tail_matrix, \"../Images/corr_extraquestions.pdf\")"
   ]
  }
 ],
 "metadata": {
  "kernelspec": {
   "display_name": "Python 3",
   "language": "python",
   "name": "python3"
  },
  "language_info": {
   "codemirror_mode": {
    "name": "ipython",
    "version": 3
   },
   "file_extension": ".py",
   "mimetype": "text/x-python",
   "name": "python",
   "nbconvert_exporter": "python",
   "pygments_lexer": "ipython3",
   "version": "3.8.3"
  }
 },
 "nbformat": 4,
 "nbformat_minor": 4
}
